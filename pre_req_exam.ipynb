{
  "nbformat": 4,
  "nbformat_minor": 0,
  "metadata": {
    "colab": {
      "provenance": []
    },
    "kernelspec": {
      "name": "python3",
      "display_name": "Python 3"
    },
    "language_info": {
      "name": "python"
    }
  },
  "cells": [
    {
      "cell_type": "markdown",
      "source": [
        "Q1.How many multiplications and additions do you need to perform a matrix multiplication between a (n, k) and (k, m) matrix? Explain.\n",
        "\n",
        "Ans.\n",
        "To create each element in the final matrix, we must multiply k pairs of numbers from the original matrices. This consistent k-fold multiplication, done for each of the n x m elements in the final matrix, results in a total of k x n x m multiplications.\n",
        "\n",
        "For each element of the final matrix, we have to add up (k - 1) intermediate results from previous multiplications. To complete the remaining elements in each row, we should perform n x (m - 1) more additions. This process results in a total of (k - 1) x n x m + n x (m - 1) additions."
      ],
      "metadata": {
        "id": "prakC7GN-zeh"
      }
    },
    {
      "cell_type": "code",
      "execution_count": 7,
      "metadata": {
        "colab": {
          "base_uri": "https://localhost:8080/"
        },
        "id": "EHgnT87K-sOJ",
        "outputId": "864244db-70c3-4099-d4ac-b11ceb7f718f"
      },
      "outputs": [
        {
          "output_type": "stream",
          "name": "stdout",
          "text": [
            "[[58, 64], [139, 154]]\n",
            "[[ 58  64]\n",
            " [139 154]]\n",
            "Time taken for lists of lists: 0.6192342479998842\n",
            "Time taken for NumPy: 0.16444528400006675\n"
          ]
        }
      ],
      "source": [
        "#Q2.Write Python code to multiply the above two matrices. Solve using list of lists and then use numpy. Compare the timing of both solutions. Which one is faster? Why?\n",
        "#Ans.\n",
        "import numpy as np\n",
        "\n",
        "def matrix_multiply(a, b):\n",
        "    result = [[0] * len(b[0]) for _ in range(len(a))]\n",
        "\n",
        "    for i in range(len(a)):\n",
        "        for j in range(len(b[0])):\n",
        "            for k in range(len(b)):\n",
        "                result[i][j] += a[i][k] * b[k][j]\n",
        "\n",
        "    return result\n",
        "\n",
        "def matrix_multiply_numpy(a, b):\n",
        "    return np.dot(a, b)\n",
        "\n",
        "# Sample test case:\n",
        "matrix_a = [[1, 2, 3], [4, 5, 6]]\n",
        "matrix_b = [[7, 8], [9, 10], [11, 12]]\n",
        "result_lists = matrix_multiply(matrix_a, matrix_b)\n",
        "print(result_lists)\n",
        "\n",
        "matrix_a_np = np.array(matrix_a)\n",
        "matrix_b_np = np.array(matrix_b)\n",
        "result_numpy = matrix_multiply_numpy(matrix_a_np, matrix_b_np)\n",
        "print(result_numpy)\n",
        "\n",
        "import timeit\n",
        "\n",
        "# Timing using lists of lists\n",
        "time_lists = timeit.timeit(\"matrix_multiply(matrix_a, matrix_b)\", globals=globals(), number=100000)\n",
        "\n",
        "# Timing using NumPy\n",
        "time_numpy = timeit.timeit(\"matrix_multiply_numpy(matrix_a_np, matrix_b_np)\", globals=globals(), number=100000)\n",
        "\n",
        "print(\"Time taken for lists of lists:\", time_lists)\n",
        "print(\"Time taken for NumPy:\", time_numpy)\n",
        "\n",
        "#NumPy outperforms lists of lists in matrix multiplication due to its optimized C implementation, vectorized operations, and efficient data structures."
      ]
    },
    {
      "cell_type": "markdown",
      "source": [
        "Q3. since we have to traverse the entire array to find the largeest element and then traverse again to find the second largest element, it would take O(n) time complexity to find the median.\n",
        "\n",
        "This is not efficient and quickselect algorithm with average time complexity of O(n),can be used to find the median element."
      ],
      "metadata": {
        "id": "5ahMh9hTLFn0"
      }
    },
    {
      "cell_type": "markdown",
      "source": [
        "Q4.\n",
        "Ans\n",
        "Gradient = (2*x*y + y^3*cos(x), x^2 + 3*y^2*sin(x))"
      ],
      "metadata": {
        "id": "aUQxQlPQF_wY"
      }
    },
    {
      "cell_type": "code",
      "source": [
        "#Q6.\n",
        "import sympy as sp\n",
        "x, y = sp.symbols('x y')\n",
        "\n",
        "expr = x**2 * y + y**3 * sp.sin(x)\n",
        "\n",
        "grad_x = sp.diff(expr, x)\n",
        "grad_y = sp.diff(expr, y)\n",
        "\n",
        "print(\"Gradient =\",(grad_x,grad_y))\n"
      ],
      "metadata": {
        "colab": {
          "base_uri": "https://localhost:8080/"
        },
        "id": "kpJAJDmYHUdm",
        "outputId": "ef6ccf8b-ae98-4168-bbab-c10f0275b60c"
      },
      "execution_count": 2,
      "outputs": [
        {
          "output_type": "stream",
          "name": "stdout",
          "text": [
            "Gradient = (2*x*y + y**3*cos(x), x**2 + 3*y**2*sin(x))\n"
          ]
        }
      ]
    },
    {
      "cell_type": "code",
      "source": [
        "#Q7:\n",
        "#Ans.\n",
        "students_data = {\n",
        "    2022: {\n",
        "        'Mechanical': {\n",
        "            1: {'Roll no.': '1', 'Name': 'simon', 'Marks': {'Maths': 100, 'English': 70}},\n",
        "         },\n",
        "        'Chemical': {\n",
        "            1: {'Roll no.': '2', 'Name': 'ksi', 'Marks': {'Maths': 45, 'English': 80}},\n",
        "        },\n",
        "    },\n",
        "    2023: {\n",
        "        'Mechanical': {},\n",
        "        'Chemical': {},\n",
        "    },\n",
        "    2024: {\n",
        "        'Mechanical': {},\n",
        "        'Chemical': {},\n",
        "    },\n",
        "    2025: {\n",
        "        'Mechanical': {},\n",
        "        'Chemical': {},\n",
        "    }\n",
        "}\n",
        "\n",
        "print(students_data)\n"
      ],
      "metadata": {
        "colab": {
          "base_uri": "https://localhost:8080/"
        },
        "id": "YOglOdsP_BLR",
        "outputId": "81448823-7586-4493-dc8b-55997680bde4"
      },
      "execution_count": 8,
      "outputs": [
        {
          "output_type": "stream",
          "name": "stdout",
          "text": [
            "{2022: {'Mechanical': {1: {'Roll no.': '1', 'Name': 'simon', 'Marks': {'Maths': 100, 'English': 70}}}, 'Chemical': {1: {'Roll no.': '2', 'Name': 'ksi', 'Marks': {'Maths': 45, 'English': 80}}}}, 2023: {'Mechanical': {}, 'Chemical': {}}, 2024: {'Mechanical': {}, 'Chemical': {}}, 2025: {'Mechanical': {}, 'Chemical': {}}}\n"
          ]
        }
      ]
    },
    {
      "cell_type": "code",
      "source": [
        "#Q9\n",
        "#Ans;\n",
        "import matplotlib.pyplot as plt\n",
        "import numpy as np\n",
        "\n",
        "def my_function(x):\n",
        "    #1.return x\n",
        "    #2.return np.power(x,2)\n",
        "    #3.return (np.power(x,3)/100)\n",
        "    #4.return np.sin(x)\n",
        "    #5.return np.sin(x)/x\n",
        "    #6.return np.log(x)\n",
        "    return np.exp(x)\n",
        "x_values = np.arange(0.5, 100.5, 0.5)\n",
        "y_values = my_function(x_values)\n",
        "\n",
        "# Plot the function\n",
        "plt.plot(x_values, y_values, label='y = x')\n",
        "plt.show()\n",
        "\n",
        "#5."
      ],
      "metadata": {
        "colab": {
          "base_uri": "https://localhost:8080/",
          "height": 445
        },
        "id": "YvLbR9j__IuD",
        "outputId": "56f01274-5115-4350-b69d-4048e4566efa"
      },
      "execution_count": 9,
      "outputs": [
        {
          "output_type": "display_data",
          "data": {
            "text/plain": [
              "<Figure size 640x480 with 1 Axes>"
            ],
            "image/png": "[encoded data removed]"
          },
          "metadata": {}
        }
      ]
    },
    {
      "cell_type": "code",
      "source": [
        "#Q10\n",
        "#Ans\n",
        "import numpy as np\n",
        "import pandas as pd\n",
        "random_matrix = np.random.uniform(1, 2, (20, 5))\n",
        "df = pd.DataFrame(random_matrix, columns=['a', 'b', 'c', 'd', 'e'])\n",
        "\n",
        "max_std_col = df.std().idxmax()\n",
        "min_mean_row = df.mean(axis=1).idxmin()\n",
        "\n",
        "print(df)\n",
        "print(f\"\\nColumn with the highest standard deviation: {max_std_col}\")\n",
        "print(f\"\\nRow with the lowest mean: {min_mean_row}\")\n"
      ],
      "metadata": {
        "colab": {
          "base_uri": "https://localhost:8080/"
        },
        "id": "6LFf_5mK_LNT",
        "outputId": "fcaef8b0-fe2f-49f5-da07-c8ff03db7129"
      },
      "execution_count": 10,
      "outputs": [
        {
          "output_type": "stream",
          "name": "stdout",
          "text": [
            "           a         b         c         d         e\n",
            "0   1.145939  1.428764  1.163610  1.852477  1.872301\n",
            "1   1.587902  1.782995  1.773296  1.733570  1.514310\n",
            "2   1.831903  1.990611  1.190939  1.884625  1.188573\n",
            "3   1.206917  1.491223  1.707965  1.705079  1.341208\n",
            "4   1.510038  1.759923  1.135708  1.317146  1.613947\n",
            "5   1.742301  1.962127  1.354912  1.812709  1.726932\n",
            "6   1.306426  1.604344  1.838575  1.151793  1.154288\n",
            "7   1.328375  1.075464  1.874746  1.348251  1.802834\n",
            "8   1.144434  1.553798  1.273593  1.364539  1.421075\n",
            "9   1.589611  1.653947  1.419229  1.127007  1.339137\n",
            "10  1.282564  1.913651  1.065828  1.576744  1.929120\n",
            "11  1.508089  1.417600  1.186978  1.626124  1.543345\n",
            "12  1.139518  1.624629  1.933004  1.781974  1.750976\n",
            "13  1.075434  1.863145  1.455093  1.476431  1.810440\n",
            "14  1.974761  1.613738  1.743661  1.523815  1.002612\n",
            "15  1.337013  1.607443  1.501171  1.451575  1.998447\n",
            "16  1.799018  1.796546  1.981011  1.026267  1.460980\n",
            "17  1.099100  1.701656  1.143804  1.832701  1.485237\n",
            "18  1.316575  1.784478  1.950955  1.068173  1.982991\n",
            "19  1.019265  1.704170  1.681603  1.739233  1.972378\n",
            "\n",
            "Column with the highest standard deviation: c\n",
            "\n",
            "Row with the lowest mean: 8\n"
          ]
        }
      ]
    },
    {
      "cell_type": "code",
      "source": [
        "#Q11\n",
        "#Ans\n",
        "import numpy as np\n",
        "import pandas as pd\n",
        "random_matrix = np.random.uniform(1, 2, (20, 5))\n",
        "df = pd.DataFrame(random_matrix, columns=['a', 'b', 'c', 'd', 'e'])\n",
        "\n",
        "df['f'] = df[['a', 'b', 'c', 'd', 'e']].sum(axis=1)\n",
        "df['g'] = np.where(df['f'] < 8, 'LT8', 'GT8')\n",
        "\n",
        "num_lt8_rows = len(df[df['g'] == 'LT8'])\n",
        "\n",
        "std_lt8 = df[df['g'] == 'LT8']['f'].std()\n",
        "std_gt8 = df[df['g'] == 'GT8']['f'].std()\n",
        "\n",
        "print(df)\n",
        "print(f\"\\nNumber of rows where the value in column 'g' is 'LT8': {num_lt8_rows}\")\n",
        "print(f\"\\nStandard deviation of column 'f' for 'LT8': {std_lt8}\")\n",
        "print(f\"Standard deviation of column 'f' for 'GT8': {std_gt8}\")\n"
      ],
      "metadata": {
        "colab": {
          "base_uri": "https://localhost:8080/"
        },
        "id": "xMPRrq2E_Lzd",
        "outputId": "fdbd0c08-a954-4d1f-d2e7-859011548646"
      },
      "execution_count": 11,
      "outputs": [
        {
          "output_type": "stream",
          "name": "stdout",
          "text": [
            "           a         b         c         d         e         f    g\n",
            "0   1.950889  1.587685  1.167972  1.798595  1.330906  7.836047  LT8\n",
            "1   1.774952  1.100315  1.514336  1.384584  1.427311  7.201498  LT8\n",
            "2   1.513331  1.371176  1.566315  1.895442  1.337117  7.683380  LT8\n",
            "3   1.660914  1.043276  1.086385  1.451828  1.441088  6.683490  LT8\n",
            "4   1.738436  1.109101  1.264437  1.681455  1.129440  6.922869  LT8\n",
            "5   1.398033  1.553514  1.229619  1.832430  1.087328  7.100924  LT8\n",
            "6   1.107607  1.045014  1.056861  1.555428  1.837562  6.602473  LT8\n",
            "7   1.367538  1.613723  1.324894  1.998543  1.353387  7.658085  LT8\n",
            "8   1.832098  1.100412  1.136108  1.052618  1.818202  6.939438  LT8\n",
            "9   1.416914  1.857542  1.362813  1.508345  1.773054  7.918668  LT8\n",
            "10  1.472213  1.851357  1.826034  1.686915  1.487109  8.323628  GT8\n",
            "11  1.574838  1.282285  1.779731  1.840281  1.091851  7.568987  LT8\n",
            "12  1.341317  1.214210  1.591355  1.053803  1.674088  6.874772  LT8\n",
            "13  1.710517  1.653359  1.896227  1.079339  1.886672  8.226114  GT8\n",
            "14  1.156578  1.599333  1.742607  1.860391  1.163451  7.522360  LT8\n",
            "15  1.167090  1.304597  1.862854  1.628124  1.221686  7.184351  LT8\n",
            "16  1.802289  1.174899  1.036448  1.368035  1.943964  7.325636  LT8\n",
            "17  1.812197  1.010929  1.515722  1.332054  1.490626  7.161529  LT8\n",
            "18  1.298112  1.856274  1.510499  1.709727  1.918242  8.292854  GT8\n",
            "19  1.275533  1.436271  1.442929  1.497583  1.437731  7.090048  LT8\n",
            "\n",
            "Number of rows where the value in column 'g' is 'LT8': 17\n",
            "\n",
            "Standard deviation of column 'f' for 'LT8': 0.39316968557278054\n",
            "Standard deviation of column 'f' for 'GT8': 0.049849979847300586\n"
          ]
        }
      ]
    },
    {
      "cell_type": "code",
      "source": [],
      "metadata": {
        "id": "v5lzaFaW_OFx"
      },
      "execution_count": null,
      "outputs": []
    }
  ]
}